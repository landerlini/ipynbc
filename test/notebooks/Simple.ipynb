{
 "cells": [
  {
   "cell_type": "markdown",
   "id": "5b7f099d",
   "metadata": {},
   "source": [
    "# This is a simple notebook\n",
    "## which includes, however multiple styles\n",
    "\n",
    "and $L\\!^{\\Large A}\\!T_{\\!\\Large \\epsilon}\\!X$ formulas"
   ]
  },
  {
   "cell_type": "code",
   "execution_count": 3,
   "id": "dc58861b",
   "metadata": {},
   "outputs": [],
   "source": [
    "import numpy as np \n",
    "import matplotlib.pyplot as plt\n",
    "import pandas as pd"
   ]
  },
  {
   "cell_type": "markdown",
   "id": "e66b21a1",
   "metadata": {},
   "source": [
    "It also includes some graphics"
   ]
  },
  {
   "cell_type": "code",
   "execution_count": 6,
   "id": "141cd327",
   "metadata": {},
   "outputs": [
    {
     "data": {
      "image/png": "[encoded data removed]",
      "text/plain": [
       "<Figure size 640x480 with 1 Axes>"
      ]
     },
     "metadata": {},
     "output_type": "display_data"
    }
   ],
   "source": [
    "import matplotlib.pyplot as plt\n",
    "x = np.random.normal(0, 1, 1000)\n",
    "plt.hist(x, bins=100)\n",
    "plt.show()"
   ]
  },
  {
   "cell_type": "raw",
   "id": "e749a6cf",
   "metadata": {},
   "source": [
    "Pure HTML stuff "
   ]
  },
  {
   "cell_type": "markdown",
   "id": "0dadc74f",
   "metadata": {},
   "source": [
    "<PRE>\n",
    "pippo \n",
    " pluto\n",
    "  paperino\n",
    "</PRE>"
   ]
  },
  {
   "cell_type": "code",
   "execution_count": 4,
   "id": "40b6209b",
   "metadata": {},
   "outputs": [
    {
     "data": {
      "text/html": [
       "<div>\n",
       "<style scoped>\n",
       "    .dataframe tbody tr th:only-of-type {\n",
       "        vertical-align: middle;\n",
       "    }\n",
       "\n",
       "    .dataframe tbody tr th {\n",
       "        vertical-align: top;\n",
       "    }\n",
       "\n",
       "    .dataframe thead th {\n",
       "        text-align: right;\n",
       "    }\n",
       "</style>\n",
       "<table border=\"1\" class=\"dataframe\">\n",
       "  <thead>\n",
       "    <tr style=\"text-align: right;\">\n",
       "      <th></th>\n",
       "      <th>a</th>\n",
       "      <th>b</th>\n",
       "    </tr>\n",
       "  </thead>\n",
       "  <tbody>\n",
       "    <tr>\n",
       "      <th>0</th>\n",
       "      <td>NaN</td>\n",
       "      <td>NaN</td>\n",
       "    </tr>\n",
       "    <tr>\n",
       "      <th>1</th>\n",
       "      <td>NaN</td>\n",
       "      <td>NaN</td>\n",
       "    </tr>\n",
       "    <tr>\n",
       "      <th>2</th>\n",
       "      <td>NaN</td>\n",
       "      <td>NaN</td>\n",
       "    </tr>\n",
       "  </tbody>\n",
       "</table>\n",
       "</div>"
      ],
      "text/plain": [
       "     a    b\n",
       "0  NaN  NaN\n",
       "1  NaN  NaN\n",
       "2  NaN  NaN"
      ]
     },
     "execution_count": 4,
     "metadata": {},
     "output_type": "execute_result"
    }
   ],
   "source": [
    "pd.DataFrame(columns=('a', 'b'), index=np.arange(3))"
   ]
  },
  {
   "cell_type": "code",
   "execution_count": 6,
   "id": "c767a624",
   "metadata": {},
   "outputs": [
    {
     "name": "stdout",
     "output_type": "stream",
     "text": [
      "Hello world\n"
     ]
    }
   ],
   "source": [
    "# ipynbc:keep\n",
    "print (\"Hello world\")"
   ]
  },
  {
   "cell_type": "markdown",
   "id": "17063f48",
   "metadata": {},
   "source": [
    "This is a very long line that in the editor is simply wrapped at the right length, however in a converted format one may hope to see it wrapped at a maximum fixed width. "
   ]
  },
  {
   "cell_type": "code",
   "execution_count": null,
   "id": "b30a3b27",
   "metadata": {},
   "outputs": [],
   "source": []
  }
 ],
 "metadata": {
  "kernelspec": {
   "display_name": "Python 3 (ipykernel)",
   "language": "python",
   "name": "python3"
  },
  "language_info": {
   "codemirror_mode": {
    "name": "ipython",
    "version": 3
   },
   "file_extension": ".py",
   "mimetype": "text/x-python",
   "name": "python",
   "nbconvert_exporter": "python",
   "pygments_lexer": "ipython3",
   "version": "3.9.13"
  }
 },
 "nbformat": 4,
 "nbformat_minor": 5
}
